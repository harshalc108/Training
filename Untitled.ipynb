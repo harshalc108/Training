{
 "cells": [
  {
   "cell_type": "code",
   "execution_count": 1,
   "id": "e1715ee6",
   "metadata": {},
   "outputs": [],
   "source": [
    "# string methods"
   ]
  },
  {
   "cell_type": "code",
   "execution_count": 2,
   "id": "7f867164",
   "metadata": {},
   "outputs": [
    {
     "data": {
      "text/plain": [
       "'I am Harshal'"
      ]
     },
     "execution_count": 2,
     "metadata": {},
     "output_type": "execute_result"
    }
   ],
   "source": [
    "fresh= (\"I am Harshal[r]\")\n",
    "fresh"
   ]
  },
  {
   "cell_type": "code",
   "execution_count": 4,
   "id": "aaeaab6e",
   "metadata": {},
   "outputs": [
    {
     "name": "stdout",
     "output_type": "stream",
     "text": [
      "12\n"
     ]
    }
   ],
   "source": [
    "print(len(fresh))"
   ]
  },
  {
   "cell_type": "code",
   "execution_count": 9,
   "id": "94784ba7",
   "metadata": {},
   "outputs": [
    {
     "name": "stdout",
     "output_type": "stream",
     "text": [
      "Length of this string is  12\n"
     ]
    }
   ],
   "source": [
    "print(\"Length of this string is \",len(fresh))"
   ]
  },
  {
   "cell_type": "code",
   "execution_count": 10,
   "id": "2062ecee",
   "metadata": {},
   "outputs": [
    {
     "data": {
      "text/plain": [
       "'I am Harshal'"
      ]
     },
     "execution_count": 10,
     "metadata": {},
     "output_type": "execute_result"
    }
   ],
   "source": [
    "fresh"
   ]
  },
  {
   "cell_type": "code",
   "execution_count": 11,
   "id": "1a9f25cd",
   "metadata": {},
   "outputs": [
    {
     "name": "stdout",
     "output_type": "stream",
     "text": [
      "I am Harshal\n"
     ]
    }
   ],
   "source": [
    "print(fresh.strip())"
   ]
  },
  {
   "cell_type": "code",
   "execution_count": 12,
   "id": "2df52b32",
   "metadata": {},
   "outputs": [
    {
     "name": "stdout",
     "output_type": "stream",
     "text": [
      "i am harshal\n"
     ]
    }
   ],
   "source": [
    "print(fresh.lower())"
   ]
  },
  {
   "cell_type": "code",
   "execution_count": 13,
   "id": "af842184",
   "metadata": {},
   "outputs": [
    {
     "name": "stdout",
     "output_type": "stream",
     "text": [
      "I AM HARSHAL\n"
     ]
    }
   ],
   "source": [
    "print(fresh.upper())"
   ]
  },
  {
   "cell_type": "code",
   "execution_count": 15,
   "id": "c3b7e2b9",
   "metadata": {},
   "outputs": [
    {
     "name": "stdout",
     "output_type": "stream",
     "text": [
      "I am Marshal\n"
     ]
    }
   ],
   "source": [
    "print(fresh.replace('H','M'))"
   ]
  },
  {
   "cell_type": "code",
   "execution_count": 16,
   "id": "59eadc34",
   "metadata": {},
   "outputs": [],
   "source": [
    "#split method"
   ]
  },
  {
   "cell_type": "code",
   "execution_count": 22,
   "id": "a159477a",
   "metadata": {},
   "outputs": [
    {
     "name": "stdout",
     "output_type": "stream",
     "text": [
      "1,2,3,4,5,6,7,8,9\n"
     ]
    }
   ],
   "source": [
    "nums= \"1,2,3,4,5,6,7,8,9\"\n",
    "print(nums)"
   ]
  },
  {
   "cell_type": "code",
   "execution_count": 23,
   "id": "4e0634b7",
   "metadata": {},
   "outputs": [
    {
     "name": "stdout",
     "output_type": "stream",
     "text": [
      "['1', '2', '3', '4', '5', '6', '7', '8', '9']\n"
     ]
    }
   ],
   "source": [
    "print(nums.split(\",\"))"
   ]
  },
  {
   "cell_type": "code",
   "execution_count": 24,
   "id": "7c7ef54d",
   "metadata": {},
   "outputs": [
    {
     "data": {
      "text/plain": [
       "'I am Harshal'"
      ]
     },
     "execution_count": 24,
     "metadata": {},
     "output_type": "execute_result"
    }
   ],
   "source": [
    "fresh"
   ]
  },
  {
   "cell_type": "code",
   "execution_count": 25,
   "id": "f1397b58",
   "metadata": {},
   "outputs": [
    {
     "name": "stdout",
     "output_type": "stream",
     "text": [
      "I Am Harshal\n"
     ]
    }
   ],
   "source": [
    "print(fresh.title())"
   ]
  },
  {
   "cell_type": "code",
   "execution_count": 26,
   "id": "c0181e75",
   "metadata": {},
   "outputs": [
    {
     "name": "stdout",
     "output_type": "stream",
     "text": [
      "i AM hARSHAL\n"
     ]
    }
   ],
   "source": [
    "print(fresh.swapcase())"
   ]
  },
  {
   "cell_type": "code",
   "execution_count": 27,
   "id": "a731d58f",
   "metadata": {},
   "outputs": [
    {
     "name": "stdout",
     "output_type": "stream",
     "text": [
      "3\n"
     ]
    }
   ],
   "source": [
    "print(fresh.count('a'))"
   ]
  },
  {
   "cell_type": "code",
   "execution_count": 28,
   "id": "a8e9afde",
   "metadata": {},
   "outputs": [
    {
     "name": "stdout",
     "output_type": "stream",
     "text": [
      "True\n"
     ]
    }
   ],
   "source": [
    "print(fresh.endswith('Harshal'))"
   ]
  },
  {
   "cell_type": "code",
   "execution_count": 30,
   "id": "7bca45f0",
   "metadata": {},
   "outputs": [
    {
     "name": "stdout",
     "output_type": "stream",
     "text": [
      "False\n"
     ]
    }
   ],
   "source": [
    "print(fresh.startswith('i'))"
   ]
  },
  {
   "cell_type": "code",
   "execution_count": 33,
   "id": "ec0f4c15",
   "metadata": {},
   "outputs": [
    {
     "name": "stdout",
     "output_type": "stream",
     "text": [
      "                   I am Harshal                   \n"
     ]
    }
   ],
   "source": [
    "print(fresh.center(50))"
   ]
  },
  {
   "cell_type": "code",
   "execution_count": 34,
   "id": "03690545",
   "metadata": {},
   "outputs": [
    {
     "name": "stdout",
     "output_type": "stream",
     "text": [
      "-------------------I am Harshal-------------------\n"
     ]
    }
   ],
   "source": [
    "print(fresh.center(50,'-'))"
   ]
  },
  {
   "cell_type": "code",
   "execution_count": 36,
   "id": "912ca4e9",
   "metadata": {},
   "outputs": [
    {
     "name": "stdout",
     "output_type": "stream",
     "text": [
      "I am Harshal--------------------------------------\n"
     ]
    }
   ],
   "source": [
    "print(fresh.ljust(50,'-'))"
   ]
  },
  {
   "cell_type": "code",
   "execution_count": 37,
   "id": "36c381d8",
   "metadata": {},
   "outputs": [],
   "source": [
    "#string formatting"
   ]
  },
  {
   "cell_type": "code",
   "execution_count": 38,
   "id": "cca8bee9",
   "metadata": {},
   "outputs": [
    {
     "data": {
      "text/plain": [
       "'Harshal'"
      ]
     },
     "execution_count": 38,
     "metadata": {},
     "output_type": "execute_result"
    }
   ],
   "source": [
    "har= (\"Harshal\")\n",
    "har"
   ]
  },
  {
   "cell_type": "code",
   "execution_count": 39,
   "id": "559d2502",
   "metadata": {},
   "outputs": [
    {
     "data": {
      "text/plain": [
       "25"
      ]
     },
     "execution_count": 39,
     "metadata": {},
     "output_type": "execute_result"
    }
   ],
   "source": [
    "a=25\n",
    "a"
   ]
  },
  {
   "cell_type": "code",
   "execution_count": 46,
   "id": "e1bf5bc3",
   "metadata": {},
   "outputs": [
    {
     "data": {
      "text/plain": [
       "'This is {0} {1} '"
      ]
     },
     "execution_count": 46,
     "metadata": {},
     "output_type": "execute_result"
    }
   ],
   "source": [
    "a1= (\"This is {0} {1} \")\n",
    "a1"
   ]
  },
  {
   "cell_type": "code",
   "execution_count": 47,
   "id": "6255891c",
   "metadata": {},
   "outputs": [
    {
     "data": {
      "text/plain": [
       "'This is Harshal 25 '"
      ]
     },
     "execution_count": 47,
     "metadata": {},
     "output_type": "execute_result"
    }
   ],
   "source": [
    "b= a1.format(har,a)\n",
    "b"
   ]
  },
  {
   "cell_type": "code",
   "execution_count": 49,
   "id": "1d03b7ff",
   "metadata": {},
   "outputs": [
    {
     "name": "stdout",
     "output_type": "stream",
     "text": [
      "this is Harshal 25 \n"
     ]
    }
   ],
   "source": [
    "a1=f\"this is {har} {a} \"\n",
    "print(a1)"
   ]
  },
  {
   "cell_type": "code",
   "execution_count": 50,
   "id": "5760b396",
   "metadata": {},
   "outputs": [],
   "source": [
    "first_name = 'Harshal'"
   ]
  },
  {
   "cell_type": "code",
   "execution_count": 51,
   "id": "81e36211",
   "metadata": {},
   "outputs": [],
   "source": [
    "last_name = 'Chavhan'"
   ]
  },
  {
   "cell_type": "code",
   "execution_count": 53,
   "id": "f51bf37e",
   "metadata": {},
   "outputs": [
    {
     "data": {
      "text/plain": [
       "'My name is Harshal Chavhan'"
      ]
     },
     "execution_count": 53,
     "metadata": {},
     "output_type": "execute_result"
    }
   ],
   "source": [
    "full = 'My name is {} {}'.format(first_name, last_name)\n",
    "full"
   ]
  },
  {
   "cell_type": "code",
   "execution_count": 54,
   "id": "b93b1b74",
   "metadata": {},
   "outputs": [],
   "source": [
    "#Type conversion"
   ]
  },
  {
   "cell_type": "code",
   "execution_count": 1,
   "id": "65964d9e",
   "metadata": {},
   "outputs": [],
   "source": [
    "#loops"
   ]
  },
  {
   "cell_type": "code",
   "execution_count": 3,
   "id": "1395fe11",
   "metadata": {},
   "outputs": [
    {
     "data": {
      "text/plain": [
       "['harshal', 'Rahul', 'ganesh', 'rajesh']"
      ]
     },
     "execution_count": 3,
     "metadata": {},
     "output_type": "execute_result"
    }
   ],
   "source": [
    "l1= [\"harshal\",\"Rahul\",\"ganesh\",\"rajesh\"]\n",
    "l1"
   ]
  },
  {
   "cell_type": "code",
   "execution_count": 4,
   "id": "76893884",
   "metadata": {},
   "outputs": [
    {
     "name": "stdout",
     "output_type": "stream",
     "text": [
      "harshal\n",
      "Rahul\n",
      "ganesh\n",
      "rajesh\n"
     ]
    }
   ],
   "source": [
    "for i in l1:\n",
    "    print(i)"
   ]
  },
  {
   "cell_type": "code",
   "execution_count": 5,
   "id": "e3c20130",
   "metadata": {},
   "outputs": [],
   "source": [
    "l2=[int,float,\"harsh\",4,6,3,4,87,66,5,23,12,6.5]"
   ]
  },
  {
   "cell_type": "code",
   "execution_count": 6,
   "id": "b15d0bb8",
   "metadata": {},
   "outputs": [
    {
     "name": "stdout",
     "output_type": "stream",
     "text": [
      "6\n",
      "87\n",
      "66\n",
      "23\n",
      "12\n"
     ]
    }
   ],
   "source": [
    "for i in l2:\n",
    "    if str(i).isnumeric() and i>=6:\n",
    "        print(i)"
   ]
  },
  {
   "cell_type": "code",
   "execution_count": 7,
   "id": "08cbee1d",
   "metadata": {},
   "outputs": [
    {
     "name": "stdout",
     "output_type": "stream",
     "text": [
      "0\n",
      "1\n",
      "2\n",
      "3\n",
      "4\n",
      "5\n",
      "6\n",
      "7\n",
      "8\n",
      "9\n"
     ]
    }
   ],
   "source": [
    "a=range(10)\n",
    "for i in a:\n",
    "    print(i)"
   ]
  },
  {
   "cell_type": "code",
   "execution_count": 8,
   "id": "5ce2a438",
   "metadata": {},
   "outputs": [
    {
     "name": "stdout",
     "output_type": "stream",
     "text": [
      "the total is  104\n"
     ]
    }
   ],
   "source": [
    "list=[12,23,12,34,22,1]\n",
    "sum=0\n",
    "\n",
    "for i in list:\n",
    "    sum=sum+i\n",
    "    \n",
    "print(\"the total is \",sum)"
   ]
  },
  {
   "cell_type": "code",
   "execution_count": 11,
   "id": "efc11f67",
   "metadata": {},
   "outputs": [
    {
     "name": "stdout",
     "output_type": "stream",
     "text": [
      "Enter the number10\n",
      "10 * 1 = 10\n",
      "10 * 2 = 20\n",
      "10 * 3 = 30\n",
      "10 * 4 = 40\n",
      "10 * 5 = 50\n",
      "10 * 6 = 60\n",
      "10 * 7 = 70\n",
      "10 * 8 = 80\n",
      "10 * 9 = 90\n",
      "10 * 10 = 100\n"
     ]
    }
   ],
   "source": [
    "a= int(input(\"Enter the number\"))\n",
    "for i in range(1,11):\n",
    "    b=a*i\n",
    "    print(a,'*',i,'=',b)"
   ]
  },
  {
   "cell_type": "code",
   "execution_count": 16,
   "id": "56b4c88d",
   "metadata": {},
   "outputs": [
    {
     "name": "stdout",
     "output_type": "stream",
     "text": [
      "hello peter\n",
      "hello joseph\n",
      "hello ricky\n",
      "hello harshal\n"
     ]
    }
   ],
   "source": [
    "list=[\"peter\",'joseph',\"ricky\",'harshal']\n",
    "for i in range(len(list)):\n",
    "    print(\"hello\",(list[i]))"
   ]
  },
  {
   "cell_type": "code",
   "execution_count": 25,
   "id": "39ecd76b",
   "metadata": {},
   "outputs": [],
   "source": [
    "#while loop"
   ]
  },
  {
   "cell_type": "code",
   "execution_count": 26,
   "id": "a196df6d",
   "metadata": {},
   "outputs": [
    {
     "name": "stdout",
     "output_type": "stream",
     "text": [
      "5\n",
      "6\n",
      "7\n",
      "8\n",
      "9\n"
     ]
    }
   ],
   "source": [
    "i=5\n",
    "while i <10:\n",
    "    print(i)\n",
    "    i+=1"
   ]
  },
  {
   "cell_type": "code",
   "execution_count": null,
   "id": "4b9de5bb",
   "metadata": {},
   "outputs": [],
   "source": []
  },
  {
   "cell_type": "code",
   "execution_count": null,
   "id": "4d4a4a9a",
   "metadata": {},
   "outputs": [],
   "source": []
  },
  {
   "cell_type": "code",
   "execution_count": null,
   "id": "5d1d31a5",
   "metadata": {},
   "outputs": [],
   "source": []
  }
 ],
 "metadata": {
  "kernelspec": {
   "display_name": "Python 3 (ipykernel)",
   "language": "python",
   "name": "python3"
  },
  "language_info": {
   "codemirror_mode": {
    "name": "ipython",
    "version": 3
   },
   "file_extension": ".py",
   "mimetype": "text/x-python",
   "name": "python",
   "nbconvert_exporter": "python",
   "pygments_lexer": "ipython3",
   "version": "3.9.7"
  }
 },
 "nbformat": 4,
 "nbformat_minor": 5
}
