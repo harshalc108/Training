{
 "cells": [
  {
   "cell_type": "code",
   "execution_count": 1,
   "id": "013045eb",
   "metadata": {},
   "outputs": [],
   "source": [
    "# variables"
   ]
  },
  {
   "cell_type": "code",
   "execution_count": 2,
   "id": "d20f91bd",
   "metadata": {},
   "outputs": [],
   "source": [
    "employee= \"harshal\""
   ]
  },
  {
   "cell_type": "code",
   "execution_count": 3,
   "id": "c5fb3325",
   "metadata": {},
   "outputs": [
    {
     "name": "stdout",
     "output_type": "stream",
     "text": [
      "harshal\n"
     ]
    }
   ],
   "source": [
    "print(employee)"
   ]
  },
  {
   "cell_type": "code",
   "execution_count": 4,
   "id": "da0c2b94",
   "metadata": {},
   "outputs": [],
   "source": [
    "#replace employee variable value"
   ]
  },
  {
   "cell_type": "code",
   "execution_count": 5,
   "id": "51c4442e",
   "metadata": {},
   "outputs": [],
   "source": [
    "employee= \"Rahul\""
   ]
  },
  {
   "cell_type": "code",
   "execution_count": 7,
   "id": "418baf0c",
   "metadata": {},
   "outputs": [
    {
     "name": "stdout",
     "output_type": "stream",
     "text": [
      "Rahul\n"
     ]
    }
   ],
   "source": [
    "print(employee)"
   ]
  },
  {
   "cell_type": "code",
   "execution_count": 8,
   "id": "c7c6b461",
   "metadata": {},
   "outputs": [],
   "source": [
    "# Numeric Data Types"
   ]
  },
  {
   "cell_type": "code",
   "execution_count": 9,
   "id": "d89b15b6",
   "metadata": {},
   "outputs": [],
   "source": [
    "# int "
   ]
  },
  {
   "cell_type": "code",
   "execution_count": 21,
   "id": "e82390cc",
   "metadata": {},
   "outputs": [],
   "source": [
    "num = 23"
   ]
  },
  {
   "cell_type": "code",
   "execution_count": 22,
   "id": "5f5a341b",
   "metadata": {},
   "outputs": [
    {
     "name": "stdout",
     "output_type": "stream",
     "text": [
      "23\n"
     ]
    }
   ],
   "source": [
    "print(num)"
   ]
  },
  {
   "cell_type": "code",
   "execution_count": 23,
   "id": "3243d964",
   "metadata": {},
   "outputs": [
    {
     "data": {
      "text/plain": [
       "int"
      ]
     },
     "execution_count": 23,
     "metadata": {},
     "output_type": "execute_result"
    }
   ],
   "source": [
    "type(num)"
   ]
  },
  {
   "cell_type": "code",
   "execution_count": null,
   "id": "9db80b67",
   "metadata": {},
   "outputs": [],
   "source": [
    "#float"
   ]
  },
  {
   "cell_type": "code",
   "execution_count": 18,
   "id": "a085bcfb",
   "metadata": {},
   "outputs": [
    {
     "data": {
      "text/plain": [
       "3.14"
      ]
     },
     "execution_count": 18,
     "metadata": {},
     "output_type": "execute_result"
    }
   ],
   "source": [
    "num1 = 3.14\n",
    "num1"
   ]
  },
  {
   "cell_type": "code",
   "execution_count": 19,
   "id": "c62adada",
   "metadata": {},
   "outputs": [
    {
     "data": {
      "text/plain": [
       "float"
      ]
     },
     "execution_count": 19,
     "metadata": {},
     "output_type": "execute_result"
    }
   ],
   "source": [
    "type(num)"
   ]
  },
  {
   "cell_type": "code",
   "execution_count": null,
   "id": "c8c6a77a",
   "metadata": {},
   "outputs": [],
   "source": []
  },
  {
   "cell_type": "code",
   "execution_count": 26,
   "id": "20cfdc0f",
   "metadata": {},
   "outputs": [
    {
     "data": {
      "text/plain": [
       "True"
      ]
     },
     "execution_count": 26,
     "metadata": {},
     "output_type": "execute_result"
    }
   ],
   "source": [
    "a= True\n",
    "a"
   ]
  },
  {
   "cell_type": "code",
   "execution_count": 28,
   "id": "16767cc1",
   "metadata": {},
   "outputs": [
    {
     "data": {
      "text/plain": [
       "bool"
      ]
     },
     "execution_count": 28,
     "metadata": {},
     "output_type": "execute_result"
    }
   ],
   "source": [
    "type(a)"
   ]
  },
  {
   "cell_type": "code",
   "execution_count": null,
   "id": "f8bc3e5e",
   "metadata": {},
   "outputs": [],
   "source": []
  },
  {
   "cell_type": "code",
   "execution_count": 30,
   "id": "56ea8e5e",
   "metadata": {},
   "outputs": [
    {
     "data": {
      "text/plain": [
       "'Hello Harshal'"
      ]
     },
     "execution_count": 30,
     "metadata": {},
     "output_type": "execute_result"
    }
   ],
   "source": [
    "a1=\"Hello Harshal\"\n",
    "a1"
   ]
  },
  {
   "cell_type": "code",
   "execution_count": 31,
   "id": "8394c566",
   "metadata": {},
   "outputs": [
    {
     "data": {
      "text/plain": [
       "str"
      ]
     },
     "execution_count": 31,
     "metadata": {},
     "output_type": "execute_result"
    }
   ],
   "source": [
    "type(a1)"
   ]
  },
  {
   "cell_type": "code",
   "execution_count": null,
   "id": "6e385fa2",
   "metadata": {},
   "outputs": [],
   "source": []
  },
  {
   "cell_type": "code",
   "execution_count": 32,
   "id": "c86feda9",
   "metadata": {},
   "outputs": [
    {
     "data": {
      "text/plain": [
       "(3+5j)"
      ]
     },
     "execution_count": 32,
     "metadata": {},
     "output_type": "execute_result"
    }
   ],
   "source": [
    "a3 = 3+5j\n",
    "a3"
   ]
  },
  {
   "cell_type": "code",
   "execution_count": 33,
   "id": "98e4e55c",
   "metadata": {},
   "outputs": [
    {
     "name": "stdout",
     "output_type": "stream",
     "text": [
      "<class 'complex'>\n"
     ]
    }
   ],
   "source": [
    "print(type(a3))"
   ]
  },
  {
   "cell_type": "code",
   "execution_count": 34,
   "id": "182198ea",
   "metadata": {},
   "outputs": [],
   "source": [
    "#covert float into int"
   ]
  },
  {
   "cell_type": "code",
   "execution_count": 35,
   "id": "6f3294de",
   "metadata": {},
   "outputs": [
    {
     "data": {
      "text/plain": [
       "3.14"
      ]
     },
     "execution_count": 35,
     "metadata": {},
     "output_type": "execute_result"
    }
   ],
   "source": [
    "har = 3.14\n",
    "har"
   ]
  },
  {
   "cell_type": "code",
   "execution_count": 38,
   "id": "4d2a8a41",
   "metadata": {},
   "outputs": [
    {
     "data": {
      "text/plain": [
       "3"
      ]
     },
     "execution_count": 38,
     "metadata": {},
     "output_type": "execute_result"
    }
   ],
   "source": [
    "har2=int(har)\n",
    "har2\n"
   ]
  },
  {
   "cell_type": "code",
   "execution_count": 40,
   "id": "46daef99",
   "metadata": {},
   "outputs": [
    {
     "data": {
      "text/plain": [
       "int"
      ]
     },
     "execution_count": 40,
     "metadata": {},
     "output_type": "execute_result"
    }
   ],
   "source": [
    "type(har2)"
   ]
  },
  {
   "cell_type": "code",
   "execution_count": 43,
   "id": "fe76b80c",
   "metadata": {},
   "outputs": [],
   "source": [
    "#data type Sequence\n",
    "#List"
   ]
  },
  {
   "cell_type": "code",
   "execution_count": 42,
   "id": "ea6d9f02",
   "metadata": {},
   "outputs": [
    {
     "data": {
      "text/plain": [
       "[23, 34, 56, 21, 12]"
      ]
     },
     "execution_count": 42,
     "metadata": {},
     "output_type": "execute_result"
    }
   ],
   "source": [
    "lst = [23,34,56,21,12]\n",
    "lst"
   ]
  },
  {
   "cell_type": "code",
   "execution_count": 44,
   "id": "5ddd2168",
   "metadata": {},
   "outputs": [
    {
     "data": {
      "text/plain": [
       "list"
      ]
     },
     "execution_count": 44,
     "metadata": {},
     "output_type": "execute_result"
    }
   ],
   "source": [
    "type(lst)"
   ]
  },
  {
   "cell_type": "code",
   "execution_count": 45,
   "id": "4286896c",
   "metadata": {},
   "outputs": [
    {
     "data": {
      "text/plain": [
       "23"
      ]
     },
     "execution_count": 45,
     "metadata": {},
     "output_type": "execute_result"
    }
   ],
   "source": [
    "lst[0]"
   ]
  },
  {
   "cell_type": "code",
   "execution_count": 46,
   "id": "ebe617b1",
   "metadata": {},
   "outputs": [
    {
     "data": {
      "text/plain": [
       "21"
      ]
     },
     "execution_count": 46,
     "metadata": {},
     "output_type": "execute_result"
    }
   ],
   "source": [
    "lst[3]"
   ]
  },
  {
   "cell_type": "code",
   "execution_count": 47,
   "id": "8d706392",
   "metadata": {},
   "outputs": [
    {
     "data": {
      "text/plain": [
       "21"
      ]
     },
     "execution_count": 47,
     "metadata": {},
     "output_type": "execute_result"
    }
   ],
   "source": [
    "lst[-2]"
   ]
  },
  {
   "cell_type": "code",
   "execution_count": 48,
   "id": "bb7bfe36",
   "metadata": {},
   "outputs": [
    {
     "data": {
      "text/plain": [
       "[56, 21]"
      ]
     },
     "execution_count": 48,
     "metadata": {},
     "output_type": "execute_result"
    }
   ],
   "source": [
    "lst[2:4]"
   ]
  },
  {
   "cell_type": "code",
   "execution_count": 49,
   "id": "a9e29427",
   "metadata": {},
   "outputs": [],
   "source": [
    "#replace value"
   ]
  },
  {
   "cell_type": "code",
   "execution_count": 50,
   "id": "744c1366",
   "metadata": {},
   "outputs": [
    {
     "data": {
      "text/plain": [
       "[23, 34, 56, 21, 12]"
      ]
     },
     "execution_count": 50,
     "metadata": {},
     "output_type": "execute_result"
    }
   ],
   "source": [
    "lst"
   ]
  },
  {
   "cell_type": "code",
   "execution_count": 51,
   "id": "cb9f2bb9",
   "metadata": {},
   "outputs": [],
   "source": [
    "lst[1]=\"Harshal\""
   ]
  },
  {
   "cell_type": "code",
   "execution_count": 52,
   "id": "82255897",
   "metadata": {},
   "outputs": [
    {
     "data": {
      "text/plain": [
       "[23, 'Harshal', 56, 21, 12]"
      ]
     },
     "execution_count": 52,
     "metadata": {},
     "output_type": "execute_result"
    }
   ],
   "source": [
    "lst"
   ]
  },
  {
   "cell_type": "code",
   "execution_count": 53,
   "id": "8c895ca6",
   "metadata": {},
   "outputs": [],
   "source": [
    "#add new value"
   ]
  },
  {
   "cell_type": "code",
   "execution_count": 54,
   "id": "26b2a197",
   "metadata": {},
   "outputs": [
    {
     "data": {
      "text/plain": [
       "[23, 'Harshal', 56, 21, 12]"
      ]
     },
     "execution_count": 54,
     "metadata": {},
     "output_type": "execute_result"
    }
   ],
   "source": [
    "lst"
   ]
  },
  {
   "cell_type": "code",
   "execution_count": 55,
   "id": "0a54bd7e",
   "metadata": {},
   "outputs": [
    {
     "data": {
      "text/plain": [
       "[23, 'Harshal', 56, 21, 12, True]"
      ]
     },
     "execution_count": 55,
     "metadata": {},
     "output_type": "execute_result"
    }
   ],
   "source": [
    "lst.append(True)\n",
    "lst"
   ]
  },
  {
   "cell_type": "code",
   "execution_count": 56,
   "id": "fc007965",
   "metadata": {},
   "outputs": [],
   "source": [
    "#remove element from list"
   ]
  },
  {
   "cell_type": "code",
   "execution_count": 57,
   "id": "e5ea9d19",
   "metadata": {},
   "outputs": [
    {
     "data": {
      "text/plain": [
       "['Harshal', 56, 21, 12, True]"
      ]
     },
     "execution_count": 57,
     "metadata": {},
     "output_type": "execute_result"
    }
   ],
   "source": [
    "lst.pop(0)\n",
    "lst"
   ]
  },
  {
   "cell_type": "code",
   "execution_count": 58,
   "id": "96dabaaf",
   "metadata": {},
   "outputs": [],
   "source": [
    "lst.append('Chavhan')"
   ]
  },
  {
   "cell_type": "code",
   "execution_count": 59,
   "id": "97404fac",
   "metadata": {},
   "outputs": [
    {
     "data": {
      "text/plain": [
       "['Harshal', 56, 21, 12, True, 'Chavhan']"
      ]
     },
     "execution_count": 59,
     "metadata": {},
     "output_type": "execute_result"
    }
   ],
   "source": [
    "lst"
   ]
  },
  {
   "cell_type": "code",
   "execution_count": 60,
   "id": "5d0b8fdb",
   "metadata": {},
   "outputs": [],
   "source": [
    "#reverse"
   ]
  },
  {
   "cell_type": "code",
   "execution_count": 61,
   "id": "28f9b60a",
   "metadata": {},
   "outputs": [
    {
     "data": {
      "text/plain": [
       "['mango', 'banana', 'apple', 'orange']"
      ]
     },
     "execution_count": 61,
     "metadata": {},
     "output_type": "execute_result"
    }
   ],
   "source": [
    "l1= [\"mango\",\"banana\",\"apple\",\"orange\"]\n",
    "l1"
   ]
  },
  {
   "cell_type": "code",
   "execution_count": 62,
   "id": "83746c27",
   "metadata": {},
   "outputs": [
    {
     "data": {
      "text/plain": [
       "['orange', 'apple', 'banana', 'mango']"
      ]
     },
     "execution_count": 62,
     "metadata": {},
     "output_type": "execute_result"
    }
   ],
   "source": [
    "l1.reverse()\n",
    "l1"
   ]
  },
  {
   "cell_type": "code",
   "execution_count": 63,
   "id": "d61cc6cf",
   "metadata": {},
   "outputs": [],
   "source": [
    "#insert on specific index"
   ]
  },
  {
   "cell_type": "code",
   "execution_count": 67,
   "id": "5dc57c60",
   "metadata": {},
   "outputs": [
    {
     "data": {
      "text/plain": [
       "['cherry', 'orange', 'apple', 'banana', 'mango']"
      ]
     },
     "execution_count": 67,
     "metadata": {},
     "output_type": "execute_result"
    }
   ],
   "source": [
    "l1.insert(0,\"cherry\")\n",
    "l1"
   ]
  },
  {
   "cell_type": "code",
   "execution_count": 68,
   "id": "a5fad8e4",
   "metadata": {},
   "outputs": [],
   "source": [
    "#sort"
   ]
  },
  {
   "cell_type": "code",
   "execution_count": 69,
   "id": "ba2b75f1",
   "metadata": {},
   "outputs": [
    {
     "data": {
      "text/plain": [
       "['cherry', 'orange', 'apple', 'banana', 'mango']"
      ]
     },
     "execution_count": 69,
     "metadata": {},
     "output_type": "execute_result"
    }
   ],
   "source": [
    "l1"
   ]
  },
  {
   "cell_type": "code",
   "execution_count": 70,
   "id": "cecdea51",
   "metadata": {},
   "outputs": [],
   "source": [
    "l1.sort()"
   ]
  },
  {
   "cell_type": "code",
   "execution_count": 71,
   "id": "015bcadd",
   "metadata": {},
   "outputs": [
    {
     "data": {
      "text/plain": [
       "['apple', 'banana', 'cherry', 'mango', 'orange']"
      ]
     },
     "execution_count": 71,
     "metadata": {},
     "output_type": "execute_result"
    }
   ],
   "source": [
    "l1"
   ]
  },
  {
   "cell_type": "code",
   "execution_count": 72,
   "id": "71b9ae05",
   "metadata": {},
   "outputs": [],
   "source": [
    "#concatenating lists"
   ]
  },
  {
   "cell_type": "code",
   "execution_count": 73,
   "id": "acf9fc89",
   "metadata": {},
   "outputs": [
    {
     "data": {
      "text/plain": [
       "['apple', 'banana', 'cherry', 'mango', 'orange']"
      ]
     },
     "execution_count": 73,
     "metadata": {},
     "output_type": "execute_result"
    }
   ],
   "source": [
    "lst\n",
    "l1"
   ]
  },
  {
   "cell_type": "code",
   "execution_count": 74,
   "id": "0b324641",
   "metadata": {},
   "outputs": [
    {
     "data": {
      "text/plain": [
       "['Harshal', 56, 21, 12, True, 'Chavhan']"
      ]
     },
     "execution_count": 74,
     "metadata": {},
     "output_type": "execute_result"
    }
   ],
   "source": [
    "lst"
   ]
  },
  {
   "cell_type": "code",
   "execution_count": 75,
   "id": "74ea33ae",
   "metadata": {},
   "outputs": [
    {
     "data": {
      "text/plain": [
       "['apple',\n",
       " 'banana',\n",
       " 'cherry',\n",
       " 'mango',\n",
       " 'orange',\n",
       " 'Harshal',\n",
       " 56,\n",
       " 21,\n",
       " 12,\n",
       " True,\n",
       " 'Chavhan']"
      ]
     },
     "execution_count": 75,
     "metadata": {},
     "output_type": "execute_result"
    }
   ],
   "source": [
    "l1+lst\n"
   ]
  },
  {
   "cell_type": "code",
   "execution_count": 76,
   "id": "ed83d217",
   "metadata": {},
   "outputs": [],
   "source": [
    "#repeat"
   ]
  },
  {
   "cell_type": "code",
   "execution_count": 77,
   "id": "8ffeec82",
   "metadata": {},
   "outputs": [
    {
     "data": {
      "text/plain": [
       "['apple', 'banana', 'cherry', 'mango', 'orange']"
      ]
     },
     "execution_count": 77,
     "metadata": {},
     "output_type": "execute_result"
    }
   ],
   "source": [
    "l1"
   ]
  },
  {
   "cell_type": "code",
   "execution_count": 79,
   "id": "33ec560f",
   "metadata": {},
   "outputs": [
    {
     "data": {
      "text/plain": [
       "['apple',\n",
       " 'banana',\n",
       " 'cherry',\n",
       " 'mango',\n",
       " 'orange',\n",
       " 'apple',\n",
       " 'banana',\n",
       " 'cherry',\n",
       " 'mango',\n",
       " 'orange']"
      ]
     },
     "execution_count": 79,
     "metadata": {},
     "output_type": "execute_result"
    }
   ],
   "source": [
    "l1*2"
   ]
  },
  {
   "cell_type": "code",
   "execution_count": 80,
   "id": "810978c3",
   "metadata": {},
   "outputs": [],
   "source": [
    "# tuple"
   ]
  },
  {
   "cell_type": "code",
   "execution_count": 81,
   "id": "e105f260",
   "metadata": {},
   "outputs": [
    {
     "data": {
      "text/plain": [
       "('Harshal', 67, 3.14, True)"
      ]
     },
     "execution_count": 81,
     "metadata": {},
     "output_type": "execute_result"
    }
   ],
   "source": [
    "tup = ('Harshal',67,3.14,True)\n",
    "tup"
   ]
  },
  {
   "cell_type": "code",
   "execution_count": 83,
   "id": "0c4497db",
   "metadata": {},
   "outputs": [
    {
     "data": {
      "text/plain": [
       "tuple"
      ]
     },
     "execution_count": 83,
     "metadata": {},
     "output_type": "execute_result"
    }
   ],
   "source": [
    "type(tup)"
   ]
  },
  {
   "cell_type": "code",
   "execution_count": 84,
   "id": "d6b0bbfb",
   "metadata": {},
   "outputs": [
    {
     "data": {
      "text/plain": [
       "True"
      ]
     },
     "execution_count": 84,
     "metadata": {},
     "output_type": "execute_result"
    }
   ],
   "source": [
    "tup[3]"
   ]
  },
  {
   "cell_type": "code",
   "execution_count": 85,
   "id": "a930201d",
   "metadata": {},
   "outputs": [
    {
     "data": {
      "text/plain": [
       "('Harshal', 67, 3.14)"
      ]
     },
     "execution_count": 85,
     "metadata": {},
     "output_type": "execute_result"
    }
   ],
   "source": [
    "tup[0:3]"
   ]
  },
  {
   "cell_type": "code",
   "execution_count": 86,
   "id": "b637e841",
   "metadata": {},
   "outputs": [
    {
     "ename": "TypeError",
     "evalue": "'tuple' object does not support item assignment",
     "output_type": "error",
     "traceback": [
      "\u001b[1;31m---------------------------------------------------------------------------\u001b[0m",
      "\u001b[1;31mTypeError\u001b[0m                                 Traceback (most recent call last)",
      "\u001b[1;32m~\\AppData\\Local\\Temp/ipykernel_7948/1703770289.py\u001b[0m in \u001b[0;36m<module>\u001b[1;34m\u001b[0m\n\u001b[1;32m----> 1\u001b[1;33m \u001b[0mtup\u001b[0m\u001b[1;33m[\u001b[0m\u001b[1;36m1\u001b[0m\u001b[1;33m]\u001b[0m\u001b[1;33m=\u001b[0m\u001b[1;34m\"I AM HARSHAL\"\u001b[0m\u001b[1;33m\u001b[0m\u001b[1;33m\u001b[0m\u001b[0m\n\u001b[0m",
      "\u001b[1;31mTypeError\u001b[0m: 'tuple' object does not support item assignment"
     ]
    }
   ],
   "source": [
    "tup[1]=\"I AM HARSHAL\""
   ]
  },
  {
   "cell_type": "code",
   "execution_count": 87,
   "id": "0d4dacdb",
   "metadata": {},
   "outputs": [
    {
     "data": {
      "text/plain": [
       "('Harshal', 67, 3.14, True)"
      ]
     },
     "execution_count": 87,
     "metadata": {},
     "output_type": "execute_result"
    }
   ],
   "source": [
    "tup"
   ]
  },
  {
   "cell_type": "code",
   "execution_count": 88,
   "id": "11396e56",
   "metadata": {},
   "outputs": [],
   "source": [
    "#length of tuple"
   ]
  },
  {
   "cell_type": "code",
   "execution_count": 89,
   "id": "9e1c2b58",
   "metadata": {},
   "outputs": [
    {
     "data": {
      "text/plain": [
       "4"
      ]
     },
     "execution_count": 89,
     "metadata": {},
     "output_type": "execute_result"
    }
   ],
   "source": [
    "len(tup)"
   ]
  },
  {
   "cell_type": "code",
   "execution_count": 90,
   "id": "f8729d4a",
   "metadata": {},
   "outputs": [
    {
     "data": {
      "text/plain": [
       "(1, 34, 56, 3)"
      ]
     },
     "execution_count": 90,
     "metadata": {},
     "output_type": "execute_result"
    }
   ],
   "source": [
    "tup1= (1,34,56,3)\n",
    "tup1"
   ]
  },
  {
   "cell_type": "code",
   "execution_count": 91,
   "id": "b03ddba2",
   "metadata": {},
   "outputs": [
    {
     "data": {
      "text/plain": [
       "(1, 34, 56, 3, 'Harshal', 67, 3.14, True)"
      ]
     },
     "execution_count": 91,
     "metadata": {},
     "output_type": "execute_result"
    }
   ],
   "source": [
    "tup1+tup"
   ]
  },
  {
   "cell_type": "code",
   "execution_count": 92,
   "id": "f54bcfff",
   "metadata": {},
   "outputs": [
    {
     "data": {
      "text/plain": [
       "('Harshal', 67, 3.14, True, 'Harshal', 67, 3.14, True, 1, 34, 56, 3)"
      ]
     },
     "execution_count": 92,
     "metadata": {},
     "output_type": "execute_result"
    }
   ],
   "source": [
    "tup*2+tup1"
   ]
  },
  {
   "cell_type": "code",
   "execution_count": 93,
   "id": "883508f3",
   "metadata": {},
   "outputs": [
    {
     "data": {
      "text/plain": [
       "(1, 34, 56, 3)"
      ]
     },
     "execution_count": 93,
     "metadata": {},
     "output_type": "execute_result"
    }
   ],
   "source": [
    "tup1"
   ]
  },
  {
   "cell_type": "code",
   "execution_count": 94,
   "id": "f127be45",
   "metadata": {},
   "outputs": [
    {
     "data": {
      "text/plain": [
       "1"
      ]
     },
     "execution_count": 94,
     "metadata": {},
     "output_type": "execute_result"
    }
   ],
   "source": [
    "min(tup1)"
   ]
  },
  {
   "cell_type": "code",
   "execution_count": 95,
   "id": "5b273b63",
   "metadata": {},
   "outputs": [
    {
     "data": {
      "text/plain": [
       "56"
      ]
     },
     "execution_count": 95,
     "metadata": {},
     "output_type": "execute_result"
    }
   ],
   "source": [
    "max(tup1)"
   ]
  },
  {
   "cell_type": "code",
   "execution_count": 96,
   "id": "da75d200",
   "metadata": {},
   "outputs": [],
   "source": [
    "#set"
   ]
  },
  {
   "cell_type": "code",
   "execution_count": 100,
   "id": "b35f535d",
   "metadata": {},
   "outputs": [
    {
     "data": {
      "text/plain": [
       "{'Chetan', 'Harshal', 'Rahul', 'Rajesh'}"
      ]
     },
     "execution_count": 100,
     "metadata": {},
     "output_type": "execute_result"
    }
   ],
   "source": [
    "set= {'Harshal','Rahul','Rajesh','Chetan'}\n",
    "set"
   ]
  },
  {
   "cell_type": "code",
   "execution_count": 101,
   "id": "2e29b7df",
   "metadata": {},
   "outputs": [
    {
     "data": {
      "text/plain": [
       "set"
      ]
     },
     "execution_count": 101,
     "metadata": {},
     "output_type": "execute_result"
    }
   ],
   "source": [
    "type(set)"
   ]
  },
  {
   "cell_type": "code",
   "execution_count": 102,
   "id": "8c2bbe78",
   "metadata": {},
   "outputs": [],
   "source": [
    "#dictionary"
   ]
  },
  {
   "cell_type": "code",
   "execution_count": 103,
   "id": "ac87ebeb",
   "metadata": {},
   "outputs": [
    {
     "data": {
      "text/plain": [
       "{'Harshal': 50, 'Rahul': 23, 'Chetan': 45}"
      ]
     },
     "execution_count": 103,
     "metadata": {},
     "output_type": "execute_result"
    }
   ],
   "source": [
    "dic= {\"Harshal\":50,\"Rahul\":23,\"Chetan\":45}\n",
    "dic"
   ]
  },
  {
   "cell_type": "code",
   "execution_count": 104,
   "id": "ebe43e91",
   "metadata": {},
   "outputs": [
    {
     "data": {
      "text/plain": [
       "dict"
      ]
     },
     "execution_count": 104,
     "metadata": {},
     "output_type": "execute_result"
    }
   ],
   "source": [
    "type(dic)"
   ]
  },
  {
   "cell_type": "code",
   "execution_count": 105,
   "id": "36b67c9f",
   "metadata": {},
   "outputs": [
    {
     "data": {
      "text/plain": [
       "dict_keys(['Harshal', 'Rahul', 'Chetan'])"
      ]
     },
     "execution_count": 105,
     "metadata": {},
     "output_type": "execute_result"
    }
   ],
   "source": [
    "dic.keys()"
   ]
  },
  {
   "cell_type": "code",
   "execution_count": 106,
   "id": "5bc2a8e8",
   "metadata": {},
   "outputs": [
    {
     "data": {
      "text/plain": [
       "dict_values([50, 23, 45])"
      ]
     },
     "execution_count": 106,
     "metadata": {},
     "output_type": "execute_result"
    }
   ],
   "source": [
    "dic.values()"
   ]
  },
  {
   "cell_type": "code",
   "execution_count": 107,
   "id": "3ae1e513",
   "metadata": {},
   "outputs": [
    {
     "data": {
      "text/plain": [
       "{'Harshal': 50, 'Rahul': 23, 'Chetan': 45, 'rohan': 60}"
      ]
     },
     "execution_count": 107,
     "metadata": {},
     "output_type": "execute_result"
    }
   ],
   "source": [
    "dic[\"rohan\"]=60\n",
    "dic"
   ]
  },
  {
   "cell_type": "code",
   "execution_count": 108,
   "id": "0027efc8",
   "metadata": {},
   "outputs": [
    {
     "data": {
      "text/plain": [
       "{'Harshal': 80, 'Rahul': 23, 'Chetan': 45, 'rohan': 60}"
      ]
     },
     "execution_count": 108,
     "metadata": {},
     "output_type": "execute_result"
    }
   ],
   "source": [
    "dic['Harshal']=80\n",
    "dic"
   ]
  },
  {
   "cell_type": "code",
   "execution_count": 109,
   "id": "61d26ecd",
   "metadata": {},
   "outputs": [],
   "source": [
    "#update dictionary"
   ]
  },
  {
   "cell_type": "code",
   "execution_count": 110,
   "id": "adb5af77",
   "metadata": {},
   "outputs": [
    {
     "data": {
      "text/plain": [
       "{'chandan': 39, 'ranjit': 29}"
      ]
     },
     "execution_count": 110,
     "metadata": {},
     "output_type": "execute_result"
    }
   ],
   "source": [
    "dic2= {'chandan':39,'ranjit':29}\n",
    "dic2"
   ]
  },
  {
   "cell_type": "code",
   "execution_count": 113,
   "id": "e9cd1c5a",
   "metadata": {},
   "outputs": [
    {
     "data": {
      "text/plain": [
       "{'Harshal': 80,\n",
       " 'Rahul': 23,\n",
       " 'Chetan': 45,\n",
       " 'rohan': 60,\n",
       " 'chandan': 39,\n",
       " 'ranjit': 29}"
      ]
     },
     "execution_count": 113,
     "metadata": {},
     "output_type": "execute_result"
    }
   ],
   "source": [
    "dic.update(dic2)\n",
    "dic"
   ]
  },
  {
   "cell_type": "code",
   "execution_count": 114,
   "id": "de9f9b0b",
   "metadata": {},
   "outputs": [
    {
     "data": {
      "text/plain": [
       "{'Harshal': 80, 'Rahul': 23, 'Chetan': 45, 'chandan': 39, 'ranjit': 29}"
      ]
     },
     "execution_count": 114,
     "metadata": {},
     "output_type": "execute_result"
    }
   ],
   "source": [
    "dic.pop('rohan')\n",
    "dic"
   ]
  },
  {
   "cell_type": "code",
   "execution_count": null,
   "id": "b467a704",
   "metadata": {},
   "outputs": [],
   "source": []
  }
 ],
 "metadata": {
  "kernelspec": {
   "display_name": "Python 3 (ipykernel)",
   "language": "python",
   "name": "python3"
  },
  "language_info": {
   "codemirror_mode": {
    "name": "ipython",
    "version": 3
   },
   "file_extension": ".py",
   "mimetype": "text/x-python",
   "name": "python",
   "nbconvert_exporter": "python",
   "pygments_lexer": "ipython3",
   "version": "3.9.7"
  }
 },
 "nbformat": 4,
 "nbformat_minor": 5
}
