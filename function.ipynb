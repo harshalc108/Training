{
 "cells": [
  {
   "cell_type": "code",
   "execution_count": 1,
   "id": "fe3e7557",
   "metadata": {},
   "outputs": [],
   "source": [
    "def say_hello():\n",
    "    print(\"Hello\")"
   ]
  },
  {
   "cell_type": "code",
   "execution_count": 2,
   "id": "c31d1d9f",
   "metadata": {},
   "outputs": [
    {
     "name": "stdout",
     "output_type": "stream",
     "text": [
      "Hello\n"
     ]
    }
   ],
   "source": [
    "say_hello()"
   ]
  },
  {
   "cell_type": "code",
   "execution_count": 8,
   "id": "05d57a64",
   "metadata": {},
   "outputs": [],
   "source": [
    "def say_hello(name):\n",
    "    print(f'Hello {name}')"
   ]
  },
  {
   "cell_type": "code",
   "execution_count": 9,
   "id": "3aa011aa",
   "metadata": {},
   "outputs": [
    {
     "name": "stdout",
     "output_type": "stream",
     "text": [
      "Hello Harshal\n"
     ]
    }
   ],
   "source": [
    "say_hello('Harshal')"
   ]
  },
  {
   "cell_type": "code",
   "execution_count": 10,
   "id": "b708604b",
   "metadata": {},
   "outputs": [],
   "source": [
    "def add_num(n1,n2):\n",
    "    return n1+n2"
   ]
  },
  {
   "cell_type": "code",
   "execution_count": 11,
   "id": "2f724f2d",
   "metadata": {},
   "outputs": [
    {
     "data": {
      "text/plain": [
       "10"
      ]
     },
     "execution_count": 11,
     "metadata": {},
     "output_type": "execute_result"
    }
   ],
   "source": [
    "add_num(4,6)"
   ]
  },
  {
   "cell_type": "code",
   "execution_count": 19,
   "id": "1d0163aa",
   "metadata": {},
   "outputs": [],
   "source": [
    "def check_even_list(1,2,3,4):\n",
    "    even_numbers=[]\n",
    "    \n",
    "    if number in num_list:\n",
    "        if number % 2 == 0:\n",
    "            even_numbers.append(number)\n",
    "            \n",
    "        else:\n",
    "            pass\n",
    "    return even_numbers"
   ]
  },
  {
   "cell_type": "code",
   "execution_count": 25,
   "id": "30c2f341",
   "metadata": {},
   "outputs": [],
   "source": [
    "stock_price= [('appl',200),('goog',400),('micro',100)]"
   ]
  },
  {
   "cell_type": "code",
   "execution_count": 26,
   "id": "e730fba0",
   "metadata": {},
   "outputs": [
    {
     "name": "stdout",
     "output_type": "stream",
     "text": [
      "('appl', 200)\n",
      "('goog', 400)\n",
      "('micro', 100)\n"
     ]
    }
   ],
   "source": [
    "for item in stock_price:\n",
    "    print(item)"
   ]
  },
  {
   "cell_type": "code",
   "execution_count": 27,
   "id": "9dc8c850",
   "metadata": {},
   "outputs": [
    {
     "name": "stdout",
     "output_type": "stream",
     "text": [
      "appl\n",
      "goog\n",
      "micro\n"
     ]
    }
   ],
   "source": [
    "for name,price in stock_price:\n",
    "    print(name)"
   ]
  },
  {
   "cell_type": "code",
   "execution_count": 28,
   "id": "493a46c1",
   "metadata": {},
   "outputs": [],
   "source": [
    "work_hour=[('a',100),('b',400),('c',600)]"
   ]
  },
  {
   "cell_type": "code",
   "execution_count": 31,
   "id": "ffb3e2d0",
   "metadata": {},
   "outputs": [],
   "source": [
    "def employee(work_hour):\n",
    "    current_max=0\n",
    "    employee_month=''\n",
    "    \n",
    "    for employee,hour in work_hour:\n",
    "        if hour>current_max:\n",
    "            current_max=hour\n",
    "            employee_month=employee\n",
    "        else:\n",
    "            pass\n",
    "    \n",
    "    \n",
    "    return(employee_month,current_max)"
   ]
  },
  {
   "cell_type": "code",
   "execution_count": 32,
   "id": "ca896009",
   "metadata": {},
   "outputs": [
    {
     "data": {
      "text/plain": [
       "('c', 600)"
      ]
     },
     "execution_count": 32,
     "metadata": {},
     "output_type": "execute_result"
    }
   ],
   "source": [
    "employee(work_hour)"
   ]
  },
  {
   "cell_type": "code",
   "execution_count": 31,
   "id": "093ee5f7",
   "metadata": {},
   "outputs": [],
   "source": [
    "example=[1,2,3,4,5,6]"
   ]
  },
  {
   "cell_type": "code",
   "execution_count": 32,
   "id": "4a6b135f",
   "metadata": {},
   "outputs": [],
   "source": [
    "from random import shuffle"
   ]
  },
  {
   "cell_type": "code",
   "execution_count": 33,
   "id": "edc02c66",
   "metadata": {},
   "outputs": [],
   "source": [
    "shuffle(example)"
   ]
  },
  {
   "cell_type": "code",
   "execution_count": 34,
   "id": "11532f33",
   "metadata": {},
   "outputs": [
    {
     "data": {
      "text/plain": [
       "[3, 6, 1, 4, 2, 5]"
      ]
     },
     "execution_count": 34,
     "metadata": {},
     "output_type": "execute_result"
    }
   ],
   "source": [
    "example"
   ]
  },
  {
   "cell_type": "code",
   "execution_count": 35,
   "id": "bc46a40f",
   "metadata": {},
   "outputs": [],
   "source": [
    "def shuffle_list(my_list):\n",
    "    shuffle(my_list)\n",
    "    return my_list"
   ]
  },
  {
   "cell_type": "code",
   "execution_count": 36,
   "id": "02868155",
   "metadata": {},
   "outputs": [],
   "source": [
    "result= shuffle_list(example)"
   ]
  },
  {
   "cell_type": "code",
   "execution_count": 37,
   "id": "54883c6b",
   "metadata": {},
   "outputs": [
    {
     "data": {
      "text/plain": [
       "[4, 6, 3, 2, 1, 5]"
      ]
     },
     "execution_count": 37,
     "metadata": {},
     "output_type": "execute_result"
    }
   ],
   "source": [
    "result"
   ]
  },
  {
   "cell_type": "code",
   "execution_count": 38,
   "id": "d7c91c88",
   "metadata": {},
   "outputs": [],
   "source": [
    "mylist=['','0','']"
   ]
  },
  {
   "cell_type": "code",
   "execution_count": 39,
   "id": "f5d0599a",
   "metadata": {},
   "outputs": [
    {
     "data": {
      "text/plain": [
       "['', '0', '']"
      ]
     },
     "execution_count": 39,
     "metadata": {},
     "output_type": "execute_result"
    }
   ],
   "source": [
    "shuffle_list(mylist)\n"
   ]
  },
  {
   "cell_type": "code",
   "execution_count": 40,
   "id": "c12cd559",
   "metadata": {},
   "outputs": [],
   "source": [
    "def player_guess():\n",
    "    guess=''\n",
    "    \n",
    "    while guess not in ['0','1','2']:\n",
    "        \n",
    "        guess=input(\"Pick a number:0,1,2 \")\n",
    "        \n",
    "    return int(guess)"
   ]
  },
  {
   "cell_type": "code",
   "execution_count": 41,
   "id": "38e6da4c",
   "metadata": {},
   "outputs": [
    {
     "name": "stdout",
     "output_type": "stream",
     "text": [
      "Pick a number:0,1,2 1\n"
     ]
    },
    {
     "data": {
      "text/plain": [
       "1"
      ]
     },
     "execution_count": 41,
     "metadata": {},
     "output_type": "execute_result"
    }
   ],
   "source": [
    "player_guess()"
   ]
  },
  {
   "cell_type": "code",
   "execution_count": 42,
   "id": "0b0f24f9",
   "metadata": {},
   "outputs": [
    {
     "name": "stdout",
     "output_type": "stream",
     "text": [
      "Pick a number:0,1,2 2\n"
     ]
    },
    {
     "data": {
      "text/plain": [
       "2"
      ]
     },
     "execution_count": 42,
     "metadata": {},
     "output_type": "execute_result"
    }
   ],
   "source": [
    " player_guess()"
   ]
  },
  {
   "cell_type": "code",
   "execution_count": 43,
   "id": "5d113d44",
   "metadata": {},
   "outputs": [
    {
     "name": "stdout",
     "output_type": "stream",
     "text": [
      "Pick a number:0,1,2 1\n"
     ]
    }
   ],
   "source": [
    "myindex= player_guess()\n"
   ]
  },
  {
   "cell_type": "code",
   "execution_count": 44,
   "id": "bc669b72",
   "metadata": {},
   "outputs": [
    {
     "data": {
      "text/plain": [
       "1"
      ]
     },
     "execution_count": 44,
     "metadata": {},
     "output_type": "execute_result"
    }
   ],
   "source": [
    "myindex\n"
   ]
  },
  {
   "cell_type": "code",
   "execution_count": 49,
   "id": "7a38e47e",
   "metadata": {},
   "outputs": [],
   "source": [
    "def check_guess(mylist,guess):\n",
    "    if mylist[guess]=='0':\n",
    "        print(\"Correct!\")\n",
    "        \n",
    "    else:\n",
    "        print(\"wrong guess!\")\n",
    "        print(mylist)"
   ]
  },
  {
   "cell_type": "code",
   "execution_count": 50,
   "id": "5e92effd",
   "metadata": {},
   "outputs": [],
   "source": [
    "mylist=['','0','']\n"
   ]
  },
  {
   "cell_type": "code",
   "execution_count": 51,
   "id": "5e497b45",
   "metadata": {},
   "outputs": [],
   "source": [
    "mix_list=shuffle_list(mylist)"
   ]
  },
  {
   "cell_type": "code",
   "execution_count": 52,
   "id": "a7d36cf8",
   "metadata": {},
   "outputs": [
    {
     "name": "stdout",
     "output_type": "stream",
     "text": [
      "Pick a number:0,1,2 2\n",
      "wrong guess!\n",
      "['0', '', '']\n"
     ]
    }
   ],
   "source": [
    "\n",
    "\n",
    "guess=player_guess()\n",
    "check_guess(mix_list,guess)"
   ]
  },
  {
   "cell_type": "code",
   "execution_count": null,
   "id": "45ab37c0",
   "metadata": {},
   "outputs": [],
   "source": []
  },
  {
   "cell_type": "code",
   "execution_count": null,
   "id": "87086297",
   "metadata": {},
   "outputs": [],
   "source": []
  }
 ],
 "metadata": {
  "kernelspec": {
   "display_name": "Python 3 (ipykernel)",
   "language": "python",
   "name": "python3"
  },
  "language_info": {
   "codemirror_mode": {
    "name": "ipython",
    "version": 3
   },
   "file_extension": ".py",
   "mimetype": "text/x-python",
   "name": "python",
   "nbconvert_exporter": "python",
   "pygments_lexer": "ipython3",
   "version": "3.9.7"
  }
 },
 "nbformat": 4,
 "nbformat_minor": 5
}
