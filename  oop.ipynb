{
 "cells": [
  {
   "cell_type": "code",
   "execution_count": 1,
   "id": "616cf11a",
   "metadata": {},
   "outputs": [],
   "source": [
    "# classes"
   ]
  },
  {
   "cell_type": "code",
   "execution_count": 2,
   "id": "49813417",
   "metadata": {},
   "outputs": [],
   "source": [
    "class Phone:\n",
    "    def make_call(self):\n",
    "        print(\"I am making a call\")\n",
    "    def play_game(self):\n",
    "        print(\"I am playing game\")"
   ]
  },
  {
   "cell_type": "code",
   "execution_count": 3,
   "id": "c4573637",
   "metadata": {},
   "outputs": [],
   "source": [
    "a1=Phone()"
   ]
  },
  {
   "cell_type": "code",
   "execution_count": 4,
   "id": "c4a1e258",
   "metadata": {},
   "outputs": [
    {
     "name": "stdout",
     "output_type": "stream",
     "text": [
      "I am making a call\n"
     ]
    }
   ],
   "source": [
    "a1.make_call()"
   ]
  },
  {
   "cell_type": "code",
   "execution_count": 5,
   "id": "6843bd02",
   "metadata": {},
   "outputs": [
    {
     "name": "stdout",
     "output_type": "stream",
     "text": [
      "I am playing game\n"
     ]
    }
   ],
   "source": [
    "a1.play_game()"
   ]
  },
  {
   "cell_type": "code",
   "execution_count": 6,
   "id": "3d3d1ed8",
   "metadata": {},
   "outputs": [],
   "source": [
    "class Phone:\n",
    "    def set_color(self,color):\n",
    "        self.color = color\n",
    "    def set_cost(self,cost):\n",
    "        self.cost = cost\n",
    "    \n",
    "    def show_color(self):\n",
    "        return self.color\n",
    "    def show_cost(self):\n",
    "        return self.cost\n",
    "    \n",
    "    def make_call(self):\n",
    "        print(\"I am making a call\")\n",
    "    def play_game(self):\n",
    "        print(\"I am playing game\")\n",
    "    "
   ]
  },
  {
   "cell_type": "code",
   "execution_count": 7,
   "id": "b5b3136f",
   "metadata": {},
   "outputs": [],
   "source": [
    "a2= Phone()"
   ]
  },
  {
   "cell_type": "code",
   "execution_count": 8,
   "id": "a65c7731",
   "metadata": {},
   "outputs": [],
   "source": [
    "a2.set_color(\"red\")"
   ]
  },
  {
   "cell_type": "code",
   "execution_count": 9,
   "id": "84b430a5",
   "metadata": {},
   "outputs": [],
   "source": [
    "a2.set_cost(10000)"
   ]
  },
  {
   "cell_type": "code",
   "execution_count": 11,
   "id": "04c2f6b8",
   "metadata": {},
   "outputs": [
    {
     "data": {
      "text/plain": [
       "'red'"
      ]
     },
     "execution_count": 11,
     "metadata": {},
     "output_type": "execute_result"
    }
   ],
   "source": [
    "a2.show_color()\n"
   ]
  },
  {
   "cell_type": "code",
   "execution_count": 12,
   "id": "f716c725",
   "metadata": {},
   "outputs": [
    {
     "data": {
      "text/plain": [
       "10000"
      ]
     },
     "execution_count": 12,
     "metadata": {},
     "output_type": "execute_result"
    }
   ],
   "source": [
    "a2.show_cost()"
   ]
  },
  {
   "cell_type": "code",
   "execution_count": 13,
   "id": "b033cc51",
   "metadata": {},
   "outputs": [
    {
     "name": "stdout",
     "output_type": "stream",
     "text": [
      "I am playing game\n"
     ]
    }
   ],
   "source": [
    "a2.play_game()"
   ]
  },
  {
   "cell_type": "code",
   "execution_count": null,
   "id": "472d8965",
   "metadata": {},
   "outputs": [],
   "source": [
    "#constructor"
   ]
  },
  {
   "cell_type": "code",
   "execution_count": 3,
   "id": "7ad97ae8",
   "metadata": {},
   "outputs": [],
   "source": [
    "class Employee:\n",
    "    def __init__(self,name,age,salary,gender):\n",
    "        self.name=name\n",
    "        self.age=age\n",
    "        self.salary=salary\n",
    "        self.gender=gender\n",
    "        \n",
    "    def show_details(self):\n",
    "        print(\"Name of the employee is-\",self.name)\n",
    "        print(\"age of the employee is-\",self.age)\n",
    "        print(\"salary of the employee is-\",self.salary)\n",
    "        print(\"gender of the employee is-\",self.gender) "
   ]
  },
  {
   "cell_type": "code",
   "execution_count": 4,
   "id": "81684db0",
   "metadata": {},
   "outputs": [
    {
     "name": "stdout",
     "output_type": "stream",
     "text": [
      "Name of the employee is- Harshal\n",
      "age of the employee is- 23\n",
      "salary of the employee is- 10000\n",
      "gender of the employee is- Male\n"
     ]
    }
   ],
   "source": [
    "k=Employee(\"Harshal\",23,10000,\"Male\")\n",
    "k.show_details()"
   ]
  },
  {
   "cell_type": "code",
   "execution_count": null,
   "id": "b8a4cf67",
   "metadata": {},
   "outputs": [],
   "source": []
  },
  {
   "cell_type": "code",
   "execution_count": 23,
   "id": "95174418",
   "metadata": {},
   "outputs": [],
   "source": [
    "class Vehicle:\n",
    "    def __init__(self,milege,cost):\n",
    "        self.milege=milege\n",
    "        self.cost=cost\n",
    "        \n",
    "    def show_car_details(self):\n",
    "        \n",
    "        print(\"Vehicle - info\")\n",
    "        print(\"milege of vehicle is  - \",self.milege)\n",
    "        print(\"cost of the vehicle is- \",self.cost)"
   ]
  },
  {
   "cell_type": "code",
   "execution_count": 24,
   "id": "e7b99d91",
   "metadata": {},
   "outputs": [],
   "source": [
    "v1=Vehicle(60,100000)"
   ]
  },
  {
   "cell_type": "code",
   "execution_count": 25,
   "id": "d4b90225",
   "metadata": {},
   "outputs": [
    {
     "name": "stdout",
     "output_type": "stream",
     "text": [
      "Vehicle - info\n",
      "milege of vehicle is  -  60\n",
      "cost of the vehicle is-  100000\n"
     ]
    }
   ],
   "source": [
    "v1.show_car_details()"
   ]
  },
  {
   "cell_type": "code",
   "execution_count": 26,
   "id": "801deb4d",
   "metadata": {},
   "outputs": [],
   "source": [
    "class Car(Vehicle):\n",
    "    def car_name(self):\n",
    "         print(\"Name of the car is XYZ\")"
   ]
  },
  {
   "cell_type": "code",
   "execution_count": 27,
   "id": "a20d439b",
   "metadata": {},
   "outputs": [
    {
     "name": "stdout",
     "output_type": "stream",
     "text": [
      "Vehicle - info\n",
      "milege of vehicle is  -  50\n",
      "cost of the vehicle is-  200000\n"
     ]
    }
   ],
   "source": [
    "c1=Car(50,200000)\n",
    "\n",
    "c1.show_car_details()"
   ]
  },
  {
   "cell_type": "code",
   "execution_count": 28,
   "id": "4493718c",
   "metadata": {},
   "outputs": [
    {
     "name": "stdout",
     "output_type": "stream",
     "text": [
      "Name of the car is XYZ\n"
     ]
    }
   ],
   "source": [
    "c1.car_name()"
   ]
  },
  {
   "cell_type": "code",
   "execution_count": 29,
   "id": "4676a206",
   "metadata": {},
   "outputs": [],
   "source": [
    "#over-riding init method"
   ]
  },
  {
   "cell_type": "code",
   "execution_count": 30,
   "id": "dc841912",
   "metadata": {},
   "outputs": [],
   "source": [
    "class Vehicle:\n",
    "    def __init__(self,milege,cost):\n",
    "        self.milege=milege\n",
    "        self.cost=cost\n",
    "        \n",
    "    def show_car_details(self):\n",
    "        \n",
    "        print(\"Vehicle - info\")\n",
    "        print(\"milege of vehicle is  - \",self.milege)\n",
    "        print(\"cost of the vehicle is- \",self.cost)"
   ]
  },
  {
   "cell_type": "code",
   "execution_count": 35,
   "id": "7d7f8285",
   "metadata": {},
   "outputs": [],
   "source": [
    "class Car1(Vehicle):\n",
    "    def __init__(self,milege,cost,tyres,HP):\n",
    "        super().__init__(milege,cost)\n",
    "        self.tyres=tyres\n",
    "        self.HP=HP\n",
    "        \n",
    "    def show_car1_details(self):\n",
    "        print(\"Car - Info\")\n",
    "        print(\"Number of Tyres in car\",self.tyres)\n",
    "        print(\"Number of HP in car\",self.HP)\n",
    "    "
   ]
  },
  {
   "cell_type": "code",
   "execution_count": 36,
   "id": "a9d91664",
   "metadata": {},
   "outputs": [
    {
     "name": "stdout",
     "output_type": "stream",
     "text": [
      "Vehicle - info\n",
      "milege of vehicle is  -  60\n",
      "cost of the vehicle is-  100000\n"
     ]
    }
   ],
   "source": [
    "m1=Car1(60,100000,4,999)\n",
    "m1.show_car_details()"
   ]
  },
  {
   "cell_type": "code",
   "execution_count": 37,
   "id": "ccb32583",
   "metadata": {},
   "outputs": [
    {
     "name": "stdout",
     "output_type": "stream",
     "text": [
      "Car - Info\n",
      "Number of Tyres in car 4\n",
      "Number of HP in car 999\n"
     ]
    }
   ],
   "source": [
    "m1.show_car1_details()"
   ]
  },
  {
   "cell_type": "code",
   "execution_count": null,
   "id": "afa05e1b",
   "metadata": {},
   "outputs": [],
   "source": []
  },
  {
   "cell_type": "code",
   "execution_count": 43,
   "id": "337080a5",
   "metadata": {},
   "outputs": [],
   "source": [
    "class Parent1:\n",
    "    def assign_string_one(self,str1):\n",
    "        self.str1=str1\n",
    "    def show_string_one(self):\n",
    "        return self.str1"
   ]
  },
  {
   "cell_type": "code",
   "execution_count": 44,
   "id": "8aa1c09a",
   "metadata": {},
   "outputs": [],
   "source": [
    "class Parent2:\n",
    "    def assign_string_two(self,str2):\n",
    "        self.str2=str2\n",
    "    def show_string_two(self):\n",
    "        return self.str2"
   ]
  },
  {
   "cell_type": "code",
   "execution_count": 45,
   "id": "c0d9c6c2",
   "metadata": {},
   "outputs": [],
   "source": [
    "class Child(Parent1,Parent2):\n",
    "    def assign_string_three(self,str3):\n",
    "        self.str3=str3\n",
    "    def show_string_three(self):\n",
    "        return self.str3"
   ]
  },
  {
   "cell_type": "code",
   "execution_count": 46,
   "id": "823e2619",
   "metadata": {},
   "outputs": [],
   "source": [
    "my_child=Child()"
   ]
  },
  {
   "cell_type": "code",
   "execution_count": 48,
   "id": "6199d9f4",
   "metadata": {},
   "outputs": [],
   "source": [
    "my_child.assign_string_one(\"I am the string of parent 1\")\n",
    "my_child.assign_string_two(\"I am the string of parent 2\")\n",
    "my_child.assign_string_three(\"I am the string of parent 3\")"
   ]
  },
  {
   "cell_type": "code",
   "execution_count": 49,
   "id": "e8766cc0",
   "metadata": {},
   "outputs": [
    {
     "data": {
      "text/plain": [
       "'I am the string of parent 1'"
      ]
     },
     "execution_count": 49,
     "metadata": {},
     "output_type": "execute_result"
    }
   ],
   "source": [
    "my_child.show_string_one()\n"
   ]
  },
  {
   "cell_type": "code",
   "execution_count": 50,
   "id": "fe8937f9",
   "metadata": {},
   "outputs": [
    {
     "data": {
      "text/plain": [
       "'I am the string of parent 2'"
      ]
     },
     "execution_count": 50,
     "metadata": {},
     "output_type": "execute_result"
    }
   ],
   "source": [
    "my_child.show_string_two()"
   ]
  },
  {
   "cell_type": "code",
   "execution_count": 51,
   "id": "7eeeb43c",
   "metadata": {},
   "outputs": [
    {
     "data": {
      "text/plain": [
       "'I am the string of parent 3'"
      ]
     },
     "execution_count": 51,
     "metadata": {},
     "output_type": "execute_result"
    }
   ],
   "source": [
    "my_child.show_string_three()"
   ]
  },
  {
   "cell_type": "code",
   "execution_count": null,
   "id": "c31a6107",
   "metadata": {},
   "outputs": [],
   "source": []
  }
 ],
 "metadata": {
  "kernelspec": {
   "display_name": "Python 3 (ipykernel)",
   "language": "python",
   "name": "python3"
  },
  "language_info": {
   "codemirror_mode": {
    "name": "ipython",
    "version": 3
   },
   "file_extension": ".py",
   "mimetype": "text/x-python",
   "name": "python",
   "nbconvert_exporter": "python",
   "pygments_lexer": "ipython3",
   "version": "3.9.7"
  }
 },
 "nbformat": 4,
 "nbformat_minor": 5
}
